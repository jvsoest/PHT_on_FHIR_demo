{
 "cells": [
  {
   "cell_type": "markdown",
   "metadata": {},
   "source": [
    "# PHT cohort counter"
   ]
  },
  {
   "cell_type": "code",
   "execution_count": 1,
   "metadata": {},
   "outputs": [],
   "source": [
    "import requests\n",
    "import json\n",
    "import uuid\n",
    "signalStation = \"http://master.personalhealthtrain.net\""
   ]
  },
  {
   "cell_type": "markdown",
   "metadata": {},
   "source": [
    "## List Stations"
   ]
  },
  {
   "cell_type": "code",
   "execution_count": 2,
   "metadata": {},
   "outputs": [
    {
     "data": {
      "text/plain": [
       "[{'name': 'DSTU3 FHIR',\n",
       "  'institute': 'FHIR',\n",
       "  'ip': '127.0.0.1',\n",
       "  'id': 1,\n",
       "  'country': 'International',\n",
       "  'email': 'johan.vansoest@maastro.nl',\n",
       "  'last_seen': '2018-11-07 19:41:52'},\n",
       " {'name': 'Thunder trial',\n",
       "  'institute': 'MAASTRO Clinic',\n",
       "  'ip': '127.0.0.1',\n",
       "  'id': 2,\n",
       "  'country': 'Netherlands',\n",
       "  'email': 'johan.vansoest@maastro.nl',\n",
       "  'last_seen': '2018-11-07 19:41:54'}]"
      ]
     },
     "execution_count": 2,
     "metadata": {},
     "output_type": "execute_result"
    }
   ],
   "source": [
    "response = requests.get(signalStation + \"/client\")\n",
    "json.loads(response.text)"
   ]
  },
  {
   "cell_type": "markdown",
   "metadata": {},
   "source": [
    "## Define train"
   ]
  },
  {
   "cell_type": "code",
   "execution_count": 3,
   "metadata": {},
   "outputs": [],
   "source": [
    "taskMetaData = {\n",
    "    \"image\": \"jvsoest/phtonfhir\",\n",
    "    \"inputString\": \"\",\n",
    "    \"runId\": 1\n",
    "}"
   ]
  },
  {
   "cell_type": "markdown",
   "metadata": {},
   "source": [
    "## Run cohort counter on RDF station"
   ]
  },
  {
   "cell_type": "code",
   "execution_count": 4,
   "metadata": {},
   "outputs": [
    {
     "name": "stdout",
     "output_type": "stream",
     "text": [
      "Task submitted with ID: 14\n"
     ]
    }
   ],
   "source": [
    "clientId = 2\n",
    "\n",
    "# Post train on signal station\n",
    "response = requests.post(signalStation + \"/client/\" + str(clientId) + \"/task/add\", json=taskMetaData)\n",
    "taskId = json.loads(response.text)[\"taskId\"]\n",
    "\n",
    "print(\"Task submitted with ID: %s\" % taskId)"
   ]
  },
  {
   "cell_type": "markdown",
   "metadata": {},
   "source": [
    "### Receive cohort counter result from station"
   ]
  },
  {
   "cell_type": "code",
   "execution_count": 5,
   "metadata": {},
   "outputs": [
    {
     "data": {
      "text/plain": [
       "{'cohortCount': 68, 'meanAge': 64.1029411764706}"
      ]
     },
     "execution_count": 5,
     "metadata": {},
     "output_type": "execute_result"
    }
   ],
   "source": [
    "response = requests.get(signalStation + \"/client/\" + str(clientId) + \"/task/\" + str(taskId) + \"/result\")\n",
    "json.loads(json.loads(response.text)[0][\"response\"])"
   ]
  },
  {
   "cell_type": "markdown",
   "metadata": {},
   "source": [
    "## Run cohort counter on FHIR station"
   ]
  },
  {
   "cell_type": "code",
   "execution_count": 8,
   "metadata": {},
   "outputs": [
    {
     "name": "stdout",
     "output_type": "stream",
     "text": [
      "Task submitted with ID: 16\n"
     ]
    }
   ],
   "source": [
    "clientId = 1\n",
    "\n",
    "# Post train on signal station\n",
    "response = requests.post(signalStation + \"/client/\" + str(clientId) + \"/task/add\", json=taskMetaData)\n",
    "taskId = json.loads(response.text)[\"taskId\"]\n",
    "\n",
    "print(\"Task submitted with ID: %s\" % taskId)"
   ]
  },
  {
   "cell_type": "markdown",
   "metadata": {},
   "source": [
    "### Receive cohort counter result from station"
   ]
  },
  {
   "cell_type": "code",
   "execution_count": 10,
   "metadata": {},
   "outputs": [
    {
     "data": {
      "text/plain": [
       "{'cohortCount': 263, 'meanAge': 12.509505703422054}"
      ]
     },
     "execution_count": 10,
     "metadata": {},
     "output_type": "execute_result"
    }
   ],
   "source": [
    "response = requests.get(signalStation + \"/client/\" + str(clientId) + \"/task/\" + str(taskId) + \"/result\")\n",
    "json.loads(json.loads(response.text)[0][\"response\"])"
   ]
  },
  {
   "cell_type": "code",
   "execution_count": null,
   "metadata": {},
   "outputs": [],
   "source": []
  }
 ],
 "metadata": {
  "kernelspec": {
   "display_name": "Python 3",
   "language": "python",
   "name": "python3"
  },
  "language_info": {
   "codemirror_mode": {
    "name": "ipython",
    "version": 3
   },
   "file_extension": ".py",
   "mimetype": "text/x-python",
   "name": "python",
   "nbconvert_exporter": "python",
   "pygments_lexer": "ipython3",
   "version": "3.7.0"
  }
 },
 "nbformat": 4,
 "nbformat_minor": 2
}
